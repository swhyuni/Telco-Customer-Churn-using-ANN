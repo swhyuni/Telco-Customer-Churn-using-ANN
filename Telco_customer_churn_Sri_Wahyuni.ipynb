{
  "cells": [
    {
      "cell_type": "markdown",
      "metadata": {
        "id": "eZxaGLkh90to"
      },
      "source": [
        "# Telco Customer Curn Using Artificial Neural Network\n",
        "\n",
        "`Sri Wahyuni`"
      ]
    },
    {
      "cell_type": "markdown",
      "metadata": {
        "id": "Xbekfnhu90tv"
      },
      "source": [
        "# 1 - Introduction\n",
        "\n",
        "Customer churn adalah kehilangan pelanggan dari suatu bisnis. Churn dihitung dari berapa banyak pelanggan meninggalkan bisnis Anda dalam waktu tertentu. Customer churn penting diketahui bisnis karena merupakan gambaran kesuksesan suatu bisnis dalam mempertahankan pelanggan.\n",
        "\n",
        "Faktanya, mendapat pelanggan baru 5 kali lebih mahal daripada mempertahankan pelanggan yang sudah ada, dan membuat pelanggan baru menjadi loyal juga 16 kali lebih mahal. Jadi, diperlukan strategi untuk menghentikan customer churn atau kehilangan pelanggan dan meretensi pelanggan yang sudah Anda punya, karena merekalah sumber utama revenue bisnis! [referensi](https://blog.usetada.com/id/apa-itu-customer-churn-dan-bagaimana-menghentikannya).\n",
        "\n",
        "### Problem Statement and Goal\n",
        "\n",
        "Customer churn salah satu faktor apakah perusahaan akan berkembang atau tidak sehingga untuk mengurangi customer churn akan dilakukan prediksi apakah konsumen akan mengalami churn atau tidak?\n",
        "\n",
        "Project ini diharapkan dapat menghasilkan model yang akurat untuk memprediksi churn rate sehingga dapat menjadi bahan evaluasi bagian marketing yang selanjutnya menentukan langkah langkah penangannnya dan diharapkan juga model ini dapat mengetahui faktor faktor apa saja yang mempengaruhi churn rate.\n",
        "\n",
        "### Output\n",
        "\n",
        "Customer Churn ini akan berupa klassifikasi `Yes` dan `No`. Analisis akan menggunakan Artificial Neural Network (ANN) dengan menggunakan 2 model yaitu **Sequential** dan **Functional**.\n",
        "\n",
        "### Dataset : \n",
        "\n",
        "Dataset yang digunakan pada project ini adalah dataset yang diperoleh dari `kaggle` dengan nama `Telco Customer Churn` yang terdiri dari 21 kolom dengan 7043 data atau baris. [Klik](https://www.kaggle.com/datasets/blastchar/telco-customer-churn) untuk langsung menuju dataset.\n",
        "\n",
        "Tabel Informasi : "
      ]
    },
    {
      "cell_type": "markdown",
      "metadata": {
        "id": "Mb7HZRnw90tw"
      },
      "source": [
        "| Feature | Description |\n",
        "|---|---|\n",
        "|customerID|A unique ID that identifies each customer|\n",
        "|gender|The customer’s gender: Male, Female|\n",
        "|SeniorCitizen|Indicates if the customer is 65 or older: Yes, No|\n",
        "|Partner|Indicates if the customer is Partner: Yes, No|\n",
        "|Dependents|Indicates if the customer lives with any dependents: Yes, No. Dependents could be children, parents, grandparents, etc.|\n",
        "|tenure|total amount of months that the customer has been with the company by the end of the quarter specified above.|\n",
        "|PhoneService| Indicates if the customer subscribes to home phone service with the company: Yes, No|\n",
        "|MultipleLines|Indicates if the customer subscribes to multiple telephone lines with the company: Yes, No|\n",
        "|InternetService|Indicates if the customer subscribes to Internet service with the company: No, DSL, Fiber Optic, Cable.|\n",
        "|OnlineSecurity|Indicates if the customer subscribes to an additional online security service provided by the company: Yes, No|\n",
        "|OnlineBackup|Indicates if the customer subscribes to an additional online backup service provided by the company: Yes, No|\n",
        "|DeviceProtection|Indicates if the customer subscribes to an additional device protection plan for their Internet equipment provided by the company: Yes, No|\n",
        "|TechSupport|Indicates if the customer subscribes to an additional technical support plan from the company with reduced wait times: Yes, No|\n",
        "|StreamingTV|Indicates if the customer uses their Internet service to stream television programing from a third party provider: Yes, No. The company does not charge an additional fee for this service.|\n",
        "|StreamingMovies|Indicates if the customer uses their Internet service to stream movies from a third party provider: Yes, No. The company does not charge an additional fee for this service.|\n",
        "|Contract|Indicates the customer’s current contract type: Month-to-Month, One Year, Two Year.|\n",
        "|PaperlessBilling|Indicates if the customer has chosen paperless billing: Yes, No|\n",
        "|PaymentMethod|Indicates how the customer pays their bill: Bank Withdrawal, Credit Card, Mailed Check|\n",
        "|MonthlyCharges|Indicates the customer’s current total monthly charge for all their services from the company.|\n",
        "|TotalCharges|Indicates the customer’s total charges, calculated to the end of the quarter specified above.|\n",
        "|Churn|Whether the customer churned or not (Yes or No)|"
      ]
    },
    {
      "cell_type": "markdown",
      "source": [
        "The data set includes information about:\n",
        "\n",
        "- Services – phone, multiple lines, internet, online security, online backup, device protection, tech support, and streaming TV and movies\n",
        "- Customer information – how long they’ve been a customer, contract, payment method, paperless billing, monthly charges, and total charges\n",
        "- Demographic – gender, age range, and if they have partners and dependents"
      ],
      "metadata": {
        "id": "kcLmLaoOlSz7"
      }
    },
    {
      "cell_type": "markdown",
      "metadata": {
        "id": "2rEkz19S90tx"
      },
      "source": [
        "# 2 - Import Libraries"
      ]
    },
    {
      "cell_type": "markdown",
      "metadata": {
        "id": "S4JfaYRS90ty"
      },
      "source": [
        "Pada Project kali ini akan menggunakan library **Pandas**, **Numpy**, **Matplotlib**, **Seaborn**, **Scikit-Learn** dan **Tensorflow**"
      ]
    },
    {
      "cell_type": "code",
      "source": [
        "import tensorflow as tf\n",
        "tf.__version__"
      ],
      "metadata": {
        "id": "I-Ru8ixDHGWx"
      },
      "execution_count": null,
      "outputs": []
    },
    {
      "cell_type": "code",
      "execution_count": null,
      "metadata": {
        "id": "rDz8aS0E90tz"
      },
      "outputs": [],
      "source": [
        "# Import Libraries\n",
        "\n",
        "import pandas as pd\n",
        "import numpy as np\n",
        "import matplotlib.pyplot as plt\n",
        "import seaborn as sns\n",
        "import joblib\n",
        "import json\n",
        "\n",
        "import warnings\n",
        "warnings.filterwarnings('ignore')\n",
        "\n",
        "from sklearn.model_selection import train_test_split\n",
        "from sklearn.preprocessing import MinMaxScaler, OrdinalEncoder, StandardScaler\n",
        "from sklearn.feature_selection import chi2, SelectKBest\n",
        "import tensorflow as tf\n",
        "from tensorflow.keras.models import Sequential\n",
        "from tensorflow.keras.layers import Dense\n",
        "from tensorflow.keras.layers import Input, concatenate\n",
        "from tensorflow.keras import Model\n",
        "from sklearn.metrics import classification_report \n",
        "from tensorflow.keras.models import load_model\n"
      ]
    },
    {
      "cell_type": "markdown",
      "metadata": {
        "id": "BBzox3tZ90t1"
      },
      "source": [
        "# 3 - Data Loading"
      ]
    },
    {
      "cell_type": "code",
      "execution_count": null,
      "metadata": {
        "id": "aY3l6fKf90t1"
      },
      "outputs": [],
      "source": [
        "# Data Loading\n",
        "\n",
        "data = pd.read_csv(r'WA_Fn-UseC_-Telco-Customer-Churn.csv')"
      ]
    },
    {
      "cell_type": "code",
      "execution_count": null,
      "metadata": {
        "id": "yt2Jh8IF90t2"
      },
      "outputs": [],
      "source": [
        "# Get all Columns\n",
        "pd.set_option('display.max_columns', None)"
      ]
    },
    {
      "cell_type": "code",
      "execution_count": null,
      "metadata": {
        "id": "KwgY8k3Q90t3"
      },
      "outputs": [],
      "source": [
        "data.head()"
      ]
    },
    {
      "cell_type": "code",
      "execution_count": null,
      "metadata": {
        "id": "w_Wd_oF-90t4"
      },
      "outputs": [],
      "source": [
        "data.tail()"
      ]
    },
    {
      "cell_type": "code",
      "execution_count": null,
      "metadata": {
        "id": "V1ivksdE90t4"
      },
      "outputs": [],
      "source": [
        "# Duplicate Dataset\n",
        "\n",
        "data_duplicate = data.copy()"
      ]
    },
    {
      "cell_type": "code",
      "execution_count": null,
      "metadata": {
        "id": "GLhXCwUZ90t5"
      },
      "outputs": [],
      "source": [
        "# Check Dataset - 1\n",
        "data.info()"
      ]
    },
    {
      "cell_type": "markdown",
      "metadata": {
        "id": "I_fEEi7190t5"
      },
      "source": [
        "Berdasarkan data diatas diperoleh beberapa informasi:\n",
        "- Terdapat **7043 baris**\n",
        "- Terdapat **21 Kolom**\n",
        "- Terdapat **1** data bertipe **float**\n",
        "- Terdapat **2** data bertipe **integer**\n",
        "- Terdapat **18** data bertipe **object**\n",
        "- Pada kolom TotalCharges bertipe **object** akan diubah menjadi **float**\n",
        "- Tidak ada Missing value\n",
        "- TotalCharges bertipe data **object** akan diubah menjadi float"
      ]
    },
    {
      "cell_type": "code",
      "execution_count": null,
      "metadata": {
        "id": "Al3PW3gn90t5"
      },
      "outputs": [],
      "source": [
        "# TotalCharges convert to float\n",
        "data['TotalCharges'] = pd.to_numeric(data['TotalCharges'], errors='coerce')"
      ]
    },
    {
      "cell_type": "code",
      "execution_count": null,
      "metadata": {
        "id": "ab3tyzrv90t6"
      },
      "outputs": [],
      "source": [
        "# SeniorCitizen convert to string\n",
        "data['SeniorCitizen'] = data.SeniorCitizen.map({1 : 'Yes', 0 : 'No'})"
      ]
    },
    {
      "cell_type": "code",
      "execution_count": null,
      "metadata": {
        "id": "4qFsFtFl90t6"
      },
      "outputs": [],
      "source": [
        "# Remove customerID\n",
        "\n",
        "data = data.drop(columns='customerID')"
      ]
    },
    {
      "cell_type": "code",
      "execution_count": null,
      "metadata": {
        "id": "quYjR11b90t6"
      },
      "outputs": [],
      "source": [
        "# Check Dataset - 2\n",
        "\n",
        "data.describe()           "
      ]
    },
    {
      "cell_type": "markdown",
      "metadata": {
        "id": "5UmC_TIv90t7"
      },
      "source": [
        "Berdasarkan data diatas diperoleh beberapa informasi:\n",
        "- Tenur yang paling banyak adalah 72 bulan atau 6 tahun.\n",
        "- MonthlyCharges sangat bervariasi dimana minimumnya di 18.25 dan paling besar 118.75.\n",
        "- TotalCharge sepertinya memiliki skew dilihat dari nial mean dan modus yang cukup jauh."
      ]
    },
    {
      "cell_type": "markdown",
      "metadata": {
        "id": "qJq-b2x290t7"
      },
      "source": [
        "# 4 - Exploratory Data Analysis (EDA)"
      ]
    },
    {
      "cell_type": "markdown",
      "metadata": {
        "id": "bhQ0hs1B90t7"
      },
      "source": [
        "### 4.1 Churn"
      ]
    },
    {
      "cell_type": "code",
      "source": [
        "# Number of Churn\n",
        "data.Churn.value_counts()"
      ],
      "metadata": {
        "id": "MZbY7tmpmsMP"
      },
      "execution_count": null,
      "outputs": []
    },
    {
      "cell_type": "code",
      "execution_count": null,
      "metadata": {
        "id": "jwxI6IYH90t8"
      },
      "outputs": [],
      "source": [
        "# Get plot and pie for churn\n",
        "\n",
        "plt.figure(figsize=(12, 6))\n",
        "plt.subplot(1, 2, 1)\n",
        "fig = sns.countplot(x='Churn', data=data)\n",
        "for p in fig.patches:\n",
        "    height = p.get_height()\n",
        "    fig.text(p.get_x() + p.get_width()/2.,\n",
        "            height + 3,\n",
        "            '{:1.0f}'.format(height),\n",
        "            ha=\"center\")\n",
        "plt.title('Churn Count')\n",
        "fig.set_xticklabels(['No', 'Yes'])\n",
        "plt.xlabel('Churn')\n",
        "plt.ylabel('Count')\n",
        "plt.subplot(1, 2, 2)\n",
        "plt.pie(data['Churn'].value_counts(), labels=['No', 'Yes'], autopct='%1.1f%%', explode=[0.1, 0])\n",
        "plt.title('Churn Percentage')\n",
        "plt.show()"
      ]
    },
    {
      "cell_type": "markdown",
      "metadata": {
        "id": "_ZxfeijJ90t8"
      },
      "source": [
        "Dataset pada kolom 'Churn' memiliki persentase yang cukup jauh dimana No lebih banyak yaitu 74% yang artinya persentase konsumen yang tidak churn jauh lebih banyak dibandingkan consumen yang churn, data ini termasuk data **Imbalance**. "
      ]
    },
    {
      "cell_type": "markdown",
      "metadata": {
        "id": "DGu3UxcG90t9"
      },
      "source": [
        "### 4.2 Gender"
      ]
    },
    {
      "cell_type": "code",
      "execution_count": null,
      "metadata": {
        "id": "bxbk8hb390t9"
      },
      "outputs": [],
      "source": [
        "# Get plot and pie for Gender\n",
        "\n",
        "plt.figure(figsize=(12,6))\n",
        "plt.subplot(1,2,1)\n",
        "plt.pie(data['gender'].value_counts(), labels=['Female', 'Male'], autopct='%1.1f%%', explode=[0.1, 0])\n",
        "plt.title('Gender Percentage')\n",
        "plt.subplot(1,2,2)\n",
        "sns.countplot(x='gender', hue='Churn', data=data)\n",
        "plt.title('Gender vs customer churn')\n",
        "plt.show()\n"
      ]
    },
    {
      "cell_type": "markdown",
      "metadata": {
        "id": "kP8h3W8q90t9"
      },
      "source": [
        "Jenis kelamin pria dan wanita bisa dikatakan sama karena perbedaan persentasenya hanya 1 persen dan berdasarkan plot jenis kelamin pria dan wanita memiliki data yang hampir sama sehingga saya asumsikan tidak memiliki pengaruh terhdapat customer yang mengalamin churn."
      ]
    },
    {
      "cell_type": "markdown",
      "metadata": {
        "id": "W1Ooc_Kd90t9"
      },
      "source": [
        "## 4.3 Senior Citizen"
      ]
    },
    {
      "cell_type": "code",
      "execution_count": null,
      "metadata": {
        "id": "x9oKgsyD90t-"
      },
      "outputs": [],
      "source": [
        "plt.figure(figsize=(20,6))\n",
        "plt.subplot(1,3,1)\n",
        "sns.countplot(x='SeniorCitizen', data=data)\n",
        "plt.title('SeniorCitizen Count')\n",
        "\n",
        "plt.subplot(1,3,2)\n",
        "plt.pie(data[data.SeniorCitizen == 'Yes'].Churn.value_counts(), labels=data[data.SeniorCitizen == 'No'].Churn.value_counts().index, autopct='%1.1f%%', explode=[0, 0.1])\n",
        "plt.title('Churn Percentage by Senior Citizen = Yes')\n",
        "\n",
        "plt.subplot(1, 3, 3)\n",
        "plt.pie(data[data.SeniorCitizen == 'No'].Churn.value_counts(), labels=data[data.SeniorCitizen == 'Yes'].Churn.value_counts().index, autopct='%1.1f%%', explode=[0, 0.1])\n",
        "plt.title('Churn Percentage by Senior Citizen = No')\n",
        "plt.show()"
      ]
    },
    {
      "cell_type": "markdown",
      "metadata": {
        "id": "RzFi9Y8i90t-"
      },
      "source": [
        "Rata rata konsumen adalah yang berusia dibawah 65 tahun, Jika berdasarkan persentasi yang mengalami churn paling banyak adalah konsumen yang berusia diatas 65 tahun yaitu 41.7% sedangkan konsumen yang mengalami churn dibawah 65 tahun hanya 23.6%"
      ]
    },
    {
      "cell_type": "markdown",
      "metadata": {
        "id": "z_1FHpA690t-"
      },
      "source": [
        "## 4.4 Tenure"
      ]
    },
    {
      "cell_type": "code",
      "execution_count": null,
      "metadata": {
        "id": "HWGVt4yO90t-"
      },
      "outputs": [],
      "source": [
        "# Get Function for distribution data\n",
        "\n",
        "# Histograme\n",
        "def histogram_plot(df, variable):\n",
        "    plt.figure(figsize=(12,6))\n",
        "    plt.subplot(1,2,1)\n",
        "    sns.histplot(df[variable], kde=True, bins=30)\n",
        "    plt.axvline(df[variable].mean(), color='r', linestyle='--', label='Mean')\n",
        "    plt.axvline(df[variable].median(), color='y', linestyle='--', label='Median')\n",
        "    plt.title('Histogram')\n",
        "\n",
        "# Boxplot\n",
        "    plt.subplot(1,2,2)\n",
        "    sns.boxplot(y=df[variable])\n",
        "    plt.title('Boxplot')\n",
        "    plt.show\n",
        "    print('\\nSkewness Value : ', df[variable].skew())\n",
        "    print('Min Value: ', df[variable].min())\n",
        "    print('Max Value: ', df[variable].max())"
      ]
    },
    {
      "cell_type": "code",
      "execution_count": null,
      "metadata": {
        "id": "ysvFoTOg90t_"
      },
      "outputs": [],
      "source": [
        "histogram_plot(data, 'tenure')"
      ]
    },
    {
      "cell_type": "markdown",
      "metadata": {
        "id": "kMpu8kbJ90t_"
      },
      "source": [
        "Pada kolom tenure berdasarkan nilai skew dan garis mean dam median data termasuk berdistribusi normal dan data tidak memiliki outlier. Namun, dilihat bahwa tenure minimal adalah 0 ini tidak biasa maka akan saya cek data yang 0 tersebut"
      ]
    },
    {
      "cell_type": "code",
      "execution_count": null,
      "metadata": {
        "id": "39bb2XwB90t_"
      },
      "outputs": [],
      "source": [
        "print('Number of unique values in tenure: ', data.tenure.nunique())\n",
        "print('Unique values in tenure: ', data.tenure.unique())"
      ]
    },
    {
      "cell_type": "code",
      "execution_count": null,
      "metadata": {
        "id": "KdlvaLAS90uA"
      },
      "outputs": [],
      "source": [
        "data['tenure'].value_counts()"
      ]
    },
    {
      "cell_type": "code",
      "execution_count": null,
      "metadata": {
        "id": "6Yfw-6jt90uA"
      },
      "outputs": [],
      "source": [
        "data[data.tenure == 0]"
      ]
    },
    {
      "cell_type": "markdown",
      "metadata": {
        "id": "gzKpjG3h90uA"
      },
      "source": [
        "Terdapat 11 data tenure yang nilainya 0 dan jika dilihat pada kolom TotalCharge Nan semua yang artinya tidak ada data. Karena tidak mengetahui kenapa data tersebut demikian maka saya asumsikan bahwa ada kesalan iput dan jumlahnya sedikit sehingga saya akan drop data tersebut di handling missing value."
      ]
    },
    {
      "cell_type": "markdown",
      "metadata": {
        "id": "aKgRBUqn90uB"
      },
      "source": [
        "## 4.5 Payment Method"
      ]
    },
    {
      "cell_type": "code",
      "execution_count": null,
      "metadata": {
        "id": "nZSconWz90uB"
      },
      "outputs": [],
      "source": [
        "plt.figure(figsize=(27,6))\n",
        "plt.subplot(1,2,1)\n",
        "sns.countplot(x='PaymentMethod', data=data)\n",
        "plt.title('PaymentMethod Count')\n",
        "\n",
        "plt.subplot(1,2,2)\n",
        "sns.countplot(y='PaymentMethod', hue='Churn', data=data)\n",
        "plt.title('PaymentMethod vs customer churn')\n",
        "plt.show()"
      ]
    },
    {
      "cell_type": "markdown",
      "metadata": {
        "id": "JCdb8F9690uB"
      },
      "source": [
        "Berdasarkan data diatas electronic check yang paling banyak digunakan dan memiliki jumlah konsumen churn paling banyak juga sehingga saya asumsikan PaymentMethod memiliki pengaruh terhadap konsumen churn"
      ]
    },
    {
      "cell_type": "markdown",
      "metadata": {
        "id": "Sy5U0RF690uB"
      },
      "source": [
        "## 4.6 Internet Service"
      ]
    },
    {
      "cell_type": "code",
      "execution_count": null,
      "metadata": {
        "id": "pha5URAN90uB"
      },
      "outputs": [],
      "source": [
        "plt.figure(figsize=(20,6))\n",
        "plt.subplot(1,2,1)\n",
        "sns.countplot(x='InternetService', data=data)\n",
        "plt.title('InternetService Count')\n",
        "\n",
        "plt.subplot(1,2,2)\n",
        "sns.countplot(x='InternetService', hue='Churn', data=data)\n",
        "plt.title('InternetService vs customer churn')\n",
        "plt.show()"
      ]
    },
    {
      "cell_type": "markdown",
      "metadata": {
        "id": "SaONfJMD90uC"
      },
      "source": [
        "Terdapat 3 layanan internet service yaitu DSL, Fiber Optic dan No (Tidak menggunakan layanan internet), konsumen paling banyak menggunakan internet service Fiber optic. Namuun Fiber optic juga memiliki konsumen churn yang sangat banyak."
      ]
    },
    {
      "cell_type": "code",
      "execution_count": null,
      "metadata": {
        "id": "lkyBsRAL90uC"
      },
      "outputs": [],
      "source": [
        "data[data.InternetService == 'DSL']"
      ]
    },
    {
      "cell_type": "code",
      "execution_count": null,
      "metadata": {
        "id": "-sOlcGrl90uC"
      },
      "outputs": [],
      "source": [
        "data[data.InternetService == 'Fiber optic']"
      ]
    },
    {
      "cell_type": "code",
      "execution_count": null,
      "metadata": {
        "id": "OOMNKJN890uD"
      },
      "outputs": [],
      "source": [
        "data[data.InternetService == 'No']"
      ]
    },
    {
      "cell_type": "markdown",
      "metadata": {
        "id": "SvPgSr7Z90uD"
      },
      "source": [
        "Dari tabel diatas dapat disimpulkan bahwa jika konsumen tidak menggunakan internet service makan si konsumen tidak akan menggunakan OnlineSecurity, OnlineBackup, DeviceProtection, TechSupport, StreamingTV, StreamingMovies"
      ]
    },
    {
      "cell_type": "markdown",
      "metadata": {
        "id": "7XIMSE9f90uD"
      },
      "source": [
        "# 5 - Data Preprocessing"
      ]
    },
    {
      "cell_type": "markdown",
      "metadata": {
        "id": "MfAfkZjB90uD"
      },
      "source": [
        "## 5.1 Get Data for Model Inference"
      ]
    },
    {
      "cell_type": "code",
      "execution_count": null,
      "metadata": {
        "id": "r5JNy7Mj90uE"
      },
      "outputs": [],
      "source": [
        "# Get Data for Model Inference\n",
        "\n",
        "data_inf = data.sample(10, random_state=75)\n",
        "data_inf"
      ]
    },
    {
      "cell_type": "markdown",
      "metadata": {
        "id": "U8s-dqkW90uE"
      },
      "source": [
        "Data Inference sudah diperoleh yaitu sebanyak 10 data, selanjutnya remove data inference dari dataset"
      ]
    },
    {
      "cell_type": "code",
      "execution_count": null,
      "metadata": {
        "id": "bofYFqt090uE"
      },
      "outputs": [],
      "source": [
        "# Remove Data Inference from Dataset\n",
        "\n",
        "data_train_test = data.drop(data_inf.index)\n",
        "data_train_test"
      ]
    },
    {
      "cell_type": "markdown",
      "metadata": {
        "id": "PYYrG1_v90uE"
      },
      "source": [
        "Data inference sudah berhasil di remove dari dataset, selanjutnya akan mereset index untuk meminimalisir jika ada kesalahan yang dikarenakan oleh index"
      ]
    },
    {
      "cell_type": "code",
      "execution_count": null,
      "metadata": {
        "id": "tR2vFU7-90uF"
      },
      "outputs": [],
      "source": [
        "# Reset Index\n",
        "\n",
        "data_train_test.reset_index(drop=True, inplace=True)\n",
        "data_inf.reset_index(drop=True, inplace=True)\n"
      ]
    },
    {
      "cell_type": "markdown",
      "metadata": {
        "id": "iUo8w0IB90uF"
      },
      "source": [
        "## 5.2 Handling Outlier"
      ]
    },
    {
      "cell_type": "markdown",
      "metadata": {
        "id": "1nAIr6kV90uF"
      },
      "source": [
        "### 5.2.1 Outlier Tenure"
      ]
    },
    {
      "cell_type": "code",
      "execution_count": null,
      "metadata": {
        "id": "4f5W7ywt90uF"
      },
      "outputs": [],
      "source": [
        "# Get Function for distribution data\n",
        "\n",
        "# Histograme\n",
        "def histogram_plot(df, variable):\n",
        "    plt.figure(figsize=(12,6))\n",
        "    plt.subplot(1,2,1)\n",
        "    sns.histplot(df[variable], kde=True, bins=30)\n",
        "    plt.title('Histogram')\n",
        "\n",
        "# Boxplot\n",
        "    plt.subplot(1,2,2)\n",
        "    sns.boxplot(y=df[variable])\n",
        "    plt.title('Boxplot')\n",
        "    plt.show\n",
        "\n",
        "    print('\\nSkewness Value : ', df[variable].skew())"
      ]
    },
    {
      "cell_type": "code",
      "execution_count": null,
      "metadata": {
        "id": "7XCD7FeZ90uF"
      },
      "outputs": [],
      "source": [
        "histogram_plot(data_train_test, 'tenure')"
      ]
    },
    {
      "cell_type": "markdown",
      "metadata": {
        "id": "YynObPMv90uG"
      },
      "source": [
        "Tidak terdapat outlier pada kolom `Tenur`"
      ]
    },
    {
      "cell_type": "markdown",
      "metadata": {
        "id": "wQQM9VA190uG"
      },
      "source": [
        "### 5.2.2 Outlier Monthly Charges"
      ]
    },
    {
      "cell_type": "code",
      "execution_count": null,
      "metadata": {
        "id": "WJHMpG4Q90uG"
      },
      "outputs": [],
      "source": [
        "histogram_plot(data_train_test, 'MonthlyCharges')"
      ]
    },
    {
      "cell_type": "markdown",
      "metadata": {
        "id": "8kb8eg6m90uG"
      },
      "source": [
        "Tidak ada Outlier pada kolom `MonthlyCharges`"
      ]
    },
    {
      "cell_type": "markdown",
      "metadata": {
        "id": "k9UqishP90uG"
      },
      "source": [
        "### 5.2.3 Outlier Total Charges"
      ]
    },
    {
      "cell_type": "code",
      "execution_count": null,
      "metadata": {
        "id": "rWyyAsYH90uH"
      },
      "outputs": [],
      "source": [
        "histogram_plot(data, 'TotalCharges')"
      ]
    },
    {
      "cell_type": "markdown",
      "metadata": {
        "id": "5d3QYrVH90uH"
      },
      "source": [
        "Tidak ada outlier pada kolom `TotalCharges`"
      ]
    },
    {
      "cell_type": "markdown",
      "metadata": {
        "id": "3xgJno9g90uH"
      },
      "source": [
        "## 5.3 Handling Missing Values"
      ]
    },
    {
      "cell_type": "code",
      "execution_count": null,
      "metadata": {
        "id": "y_kFjlIu90uH"
      },
      "outputs": [],
      "source": [
        "# Check Missing Values on X_train\n",
        "data_train_test.isnull().sum()"
      ]
    },
    {
      "cell_type": "markdown",
      "metadata": {
        "id": "fK3tfTnG90uH"
      },
      "source": [
        "Terdapat missing value pada kolom Totalcharges, sesuai dengan EDA akan drop missing value"
      ]
    },
    {
      "cell_type": "code",
      "execution_count": null,
      "metadata": {
        "id": "ilcTyzQr90uI"
      },
      "outputs": [],
      "source": [
        "data_train_test = data_train_test.dropna()"
      ]
    },
    {
      "cell_type": "code",
      "execution_count": null,
      "metadata": {
        "id": "nDbyDED490uI"
      },
      "outputs": [],
      "source": [
        "data_train_test.isnull().sum()"
      ]
    },
    {
      "cell_type": "markdown",
      "metadata": {
        "id": "C9KrwEiW90uI"
      },
      "source": [
        "## 5.2 Splitting"
      ]
    },
    {
      "cell_type": "code",
      "execution_count": null,
      "metadata": {
        "id": "2Q3aUmhG90uI"
      },
      "outputs": [],
      "source": [
        "# Splitting between X and y\n",
        "\n",
        "X = data_train_test.drop('Churn', axis=1)\n",
        "y = data_train_test['Churn']"
      ]
    },
    {
      "cell_type": "code",
      "execution_count": null,
      "metadata": {
        "id": "93ZKnstN90uI"
      },
      "outputs": [],
      "source": [
        "# Convert y to 1 and 0\n",
        "y = y.map({'Yes': 1, 'No':0})"
      ]
    },
    {
      "cell_type": "code",
      "execution_count": null,
      "metadata": {
        "id": "Pht4HjVh90uJ"
      },
      "outputs": [],
      "source": [
        "# Splitting between Train-set, Val-set, Test-set\n",
        "\n",
        "X_train_val, X_test, y_train_val, y_test = train_test_split(X, y, test_size=0.15, random_state=30)\n",
        "X_train, X_val, y_train, y_val = train_test_split(X_train_val, y_train_val, test_size=0.15, random_state=30)\n",
        "\n",
        "print('Train Size :', X_train.shape)\n",
        "print('Val size:', X_val.shape)\n",
        "print('Test size :', X_test.shape)"
      ]
    },
    {
      "cell_type": "markdown",
      "metadata": {
        "id": "ckkgYt__90uJ"
      },
      "source": [
        "## 5.5 Get Numerical Columns and Categorical Columns"
      ]
    },
    {
      "cell_type": "code",
      "execution_count": null,
      "metadata": {
        "id": "dsF125JF90uJ"
      },
      "outputs": [],
      "source": [
        "# Get Numerical Columns and Categorical Columns\n",
        "\n",
        "num_columns = X_train.select_dtypes(include=np.number).columns.tolist()\n",
        "cat_columns = X_train.select_dtypes(include=['object']).columns.tolist()\n",
        "\n",
        "print('Numerical Columns: ', num_columns)\n",
        "print('-----------------------------------------------------')\n",
        "print('Categorical Columns :', cat_columns)"
      ]
    },
    {
      "cell_type": "code",
      "execution_count": null,
      "metadata": {
        "id": "-MQRcZRG90uJ"
      },
      "outputs": [],
      "source": [
        "# Split Train set, Val set anf Test set \n",
        "\n",
        "X_train_num = X_train[num_columns]\n",
        "X_val_num = X_val[num_columns]\n",
        "X_test_num = X_test[num_columns]\n",
        "\n",
        "X_train_cat = X_train[cat_columns]\n",
        "X_val_cat = X_val[cat_columns]\n",
        "X_test_cat = X_test[cat_columns]"
      ]
    },
    {
      "cell_type": "code",
      "execution_count": null,
      "metadata": {
        "id": "50q8ZBIn90uJ"
      },
      "outputs": [],
      "source": [
        "# Feature Scaling using MinMaxScaler\n",
        "\n",
        "scaler = MinMaxScaler()\n",
        "scaler.fit(X_train_num)\n",
        "\n",
        "X_train_num_scaled = scaler.transform(X_train_num)\n",
        "X_val_num_scaled = scaler.transform(X_val_num)\n",
        "X_test_num_scaled = scaler.transform(X_test_num)\n"
      ]
    },
    {
      "cell_type": "code",
      "execution_count": null,
      "metadata": {
        "id": "nlwd0tqS90uK"
      },
      "outputs": [],
      "source": [
        "# Feature Encoding using OneHotEncoder\n",
        "\n",
        "encoder = OrdinalEncoder()\n",
        "encoder.fit(X_train_cat)\n",
        "\n",
        "X_train_cat_encoded = encoder.transform(X_train_cat)\n",
        "X_val_cat_encoded = encoder.transform(X_val_cat)\n",
        "X_test_cat_encoded = encoder.transform(X_test_cat)"
      ]
    },
    {
      "cell_type": "code",
      "execution_count": null,
      "metadata": {
        "id": "ISIDJekK90uK"
      },
      "outputs": [],
      "source": [
        "X_train_cat_encoded"
      ]
    },
    {
      "cell_type": "code",
      "execution_count": null,
      "metadata": {
        "id": "qjqinpGx90uK"
      },
      "outputs": [],
      "source": [
        "# Concat numerical and categorical \n",
        "\n",
        "X_train_final = np.concatenate([X_train_num_scaled, X_train_cat_encoded], axis=1)\n",
        "X_val_final = np.concatenate([X_val_num_scaled, X_val_cat_encoded], axis=1)\n",
        "X_test_final = np.concatenate([X_test_num_scaled, X_test_cat_encoded], axis=1)"
      ]
    },
    {
      "cell_type": "code",
      "execution_count": null,
      "metadata": {
        "id": "98ZrC1XN90uK"
      },
      "outputs": [],
      "source": [
        "X_train_final"
      ]
    },
    {
      "cell_type": "code",
      "execution_count": null,
      "metadata": {
        "id": "8MMlBVyi90uL"
      },
      "outputs": [],
      "source": [
        "# Convert to DataFrame\n",
        "\n",
        "X_train_final_df = pd.DataFrame(X_train_final, columns=[num_columns+cat_columns])\n",
        "X_val_final_df = pd.DataFrame(X_val_final, columns=[num_columns + cat_columns])\n",
        "X_test_final_df = pd.DataFrame(X_test_final, columns=[num_columns + cat_columns])"
      ]
    },
    {
      "cell_type": "markdown",
      "metadata": {
        "id": "sc_2Atun90uL"
      },
      "source": [
        "## 5.6 Feature Selection"
      ]
    },
    {
      "cell_type": "code",
      "execution_count": null,
      "metadata": {
        "id": "Mcp67ti-90uL"
      },
      "outputs": [],
      "source": [
        "# Feature selected using Chi Square\n",
        "\n",
        "test = SelectKBest(score_func=chi2, k=6)\n",
        "fit = test.fit(X_train_final, y_train)"
      ]
    },
    {
      "cell_type": "code",
      "execution_count": null,
      "metadata": {
        "id": "HL1U7XiU90uL"
      },
      "outputs": [],
      "source": [
        "np.round_(fit.scores_)"
      ]
    },
    {
      "cell_type": "code",
      "execution_count": null,
      "metadata": {
        "id": "at9S-wnm90uL"
      },
      "outputs": [],
      "source": [
        "chi = pd.Series(fit.scores_)\n",
        "chi.index = X_train_final_df.columns\n",
        "chi.sort_values(ascending=False)"
      ]
    },
    {
      "cell_type": "markdown",
      "metadata": {
        "id": "02YHsp9V90uM"
      },
      "source": [
        "Dari hasil chi2 score feature yang akan digunakan `Contract`, `OnlineSecurity`, `TechSupport`, `OnlineBackup`,`tenure`,`DeviceProtection`, `SeniorCitizen`      "
      ]
    },
    {
      "cell_type": "code",
      "execution_count": null,
      "metadata": {
        "id": "ZGLhitVZ90uM"
      },
      "outputs": [],
      "source": [
        "X_train_final_df = X_train_final_df[['Contract', 'OnlineSecurity', 'TechSupport', 'OnlineBackup','tenure','DeviceProtection', 'SeniorCitizen']]\n",
        "X_val_final_df = X_val_final_df[['Contract', 'OnlineSecurity', 'TechSupport', 'OnlineBackup','tenure','DeviceProtection', 'SeniorCitizen']]\n",
        "X_test_final_df = X_test_final_df[['Contract', 'OnlineSecurity', 'TechSupport', 'OnlineBackup','tenure','DeviceProtection', 'SeniorCitizen']]"
      ]
    },
    {
      "cell_type": "markdown",
      "metadata": {
        "id": "7eGLZQuP90uM"
      },
      "source": [
        "## 5.7 Pipeline"
      ]
    },
    {
      "cell_type": "markdown",
      "metadata": {
        "id": "XvO3mjnB90uM"
      },
      "source": [
        "Membuat pipeline menggunakan `tf.data`"
      ]
    },
    {
      "cell_type": "code",
      "execution_count": null,
      "metadata": {
        "id": "-CplMUjM90uM"
      },
      "outputs": [],
      "source": [
        "# Training Pipeline\n",
        "train_pipe = tf.data.Dataset.from_tensor_slices((X_train_final_df, y_train)).shuffle(500).batch(55)\n",
        "\n",
        "# Validation Pipeline\n",
        "val_pipe = tf.data.Dataset.from_tensor_slices((X_val_final_df, y_val)).batch(55)\n",
        "\n",
        "# Test Pipeline\n",
        "# Validation Pipeline\n",
        "test_pipe = tf.data.Dataset.from_tensor_slices((X_test_final_df, y_test)).batch(55)\n",
        "\n",
        "for row in train_pipe.take(2):\n",
        "  print(row)"
      ]
    },
    {
      "cell_type": "markdown",
      "metadata": {
        "id": "Lakbry3Q90uN"
      },
      "source": [
        "# 6 - Model Definition"
      ]
    },
    {
      "cell_type": "markdown",
      "metadata": {
        "id": "uf7MoK1a90uN"
      },
      "source": [
        "## 6.1 Sequential API"
      ]
    },
    {
      "cell_type": "code",
      "execution_count": null,
      "metadata": {
        "id": "zjV6p4Wd90uN"
      },
      "outputs": [],
      "source": [
        "# Model Sequential API\n",
        "\n",
        "model_sequential = Sequential()\n",
        "model_sequential.add(Dense(32, activation='relu', input_shape=(X_train_final_df.shape[1],)))\n",
        "model_sequential.add(Dense(18, activation='relu'))\n",
        "model_sequential.add(Dense(1, activation='sigmoid'))"
      ]
    },
    {
      "cell_type": "code",
      "source": [
        "# Compile Sequential API\n",
        "\n",
        "model_sequential.compile(loss='binary_crossentropy',\n",
        "                         optimizer='Adam',\n",
        "                         metrics=['accuracy'])\n",
        "\n",
        "model_sequential.summary()"
      ],
      "metadata": {
        "id": "2Zfbj7t6D35x"
      },
      "execution_count": null,
      "outputs": []
    },
    {
      "cell_type": "code",
      "source": [
        "# Plot Layers\n",
        "\n",
        "tf.keras.utils.plot_model(model_sequential, show_shapes=True)"
      ],
      "metadata": {
        "id": "p6k7VLEIFIfS"
      },
      "execution_count": null,
      "outputs": []
    },
    {
      "cell_type": "markdown",
      "source": [
        "## 6.2 Functional API"
      ],
      "metadata": {
        "id": "qMcYrMkJLgjr"
      }
    },
    {
      "cell_type": "code",
      "source": [
        "# Model Functional API\n",
        "\n",
        "input_data = Input(shape=(X_train_final_df.shape[1],))\n",
        "hidden_1 = Dense(32, activation='relu')(input_data)\n",
        "hidden_2 = Dense(18, activation='relu')(hidden_1)\n",
        "\n",
        "concat_data = concatenate([input_data, hidden_2])\n",
        "output_data = Dense(1, activation='sigmoid')(concat_data)\n",
        "\n",
        "model_functional = Model(inputs=input_data, outputs=output_data)"
      ],
      "metadata": {
        "id": "6YXPmSHeLmx_"
      },
      "execution_count": null,
      "outputs": []
    },
    {
      "cell_type": "code",
      "source": [
        "# Compile Functional API\n",
        "\n",
        "model_functional.compile(loss='binary_crossentropy', optimizer='Adam', metrics=['accuracy'])\n",
        "model_functional.summary()"
      ],
      "metadata": {
        "id": "JoP7Xxi7NY27"
      },
      "execution_count": null,
      "outputs": []
    },
    {
      "cell_type": "code",
      "source": [
        "# Plot Layers Functional API\n",
        "\n",
        "tf.keras.utils.plot_model(model_functional, show_shapes=True)"
      ],
      "metadata": {
        "id": "NKzXiLYHN58h"
      },
      "execution_count": null,
      "outputs": []
    },
    {
      "cell_type": "markdown",
      "metadata": {
        "id": "CoIZxy9v90uN"
      },
      "source": [
        "# 7 - Model Training"
      ]
    },
    {
      "cell_type": "markdown",
      "source": [
        "## 7.1 Sequential API"
      ],
      "metadata": {
        "id": "9HBf8ALSIuKq"
      }
    },
    {
      "cell_type": "code",
      "source": [
        "# Model Training for Sequential API\n",
        "\n",
        "%%time\n",
        "history_sequential = model_sequential.fit(train_pipe, epochs=100, validation_data=val_pipe)"
      ],
      "metadata": {
        "id": "V-JzskEVIiDB"
      },
      "execution_count": null,
      "outputs": []
    },
    {
      "cell_type": "markdown",
      "source": [
        "## 7.2 Functional API"
      ],
      "metadata": {
        "id": "OHe0ktAmOXGx"
      }
    },
    {
      "cell_type": "code",
      "source": [
        "# Model Training for Sequential API\n",
        "\n",
        "%%time\n",
        "history_functional = model_functional.fit(train_pipe, epochs=100, validation_data=val_pipe)"
      ],
      "metadata": {
        "id": "JmZG53YQLbMn"
      },
      "execution_count": null,
      "outputs": []
    },
    {
      "cell_type": "markdown",
      "metadata": {
        "id": "xmPDcP8790uN"
      },
      "source": [
        "# 8 - Model Evaluation"
      ]
    },
    {
      "cell_type": "markdown",
      "source": [
        "## 8.1 Model Evaluation"
      ],
      "metadata": {
        "id": "2rT8G4NdSYfS"
      }
    },
    {
      "cell_type": "markdown",
      "source": [
        "### 8.1.1 Sequential API"
      ],
      "metadata": {
        "id": "oyAHd4VSKERv"
      }
    },
    {
      "cell_type": "code",
      "source": [
        "# Create DataFrame\n",
        "\n",
        "history_sequential_df = pd.DataFrame(history_sequential.history)\n",
        "history_sequential_df"
      ],
      "metadata": {
        "id": "FXpyOa-fJlk3"
      },
      "execution_count": null,
      "outputs": []
    },
    {
      "cell_type": "code",
      "source": [
        "# Plot between accuracy and val_accuracy\n",
        "\n",
        "history_sequential_df[['accuracy', 'val_accuracy']].plot()"
      ],
      "metadata": {
        "id": "4zJ8ZYDyKgj_"
      },
      "execution_count": null,
      "outputs": []
    },
    {
      "cell_type": "code",
      "source": [
        "# Plot between loss and val_loss\n",
        "\n",
        "history_sequential_df[['loss', 'val_loss']].plot()"
      ],
      "metadata": {
        "id": "s76-8c4aKw0p"
      },
      "execution_count": null,
      "outputs": []
    },
    {
      "cell_type": "code",
      "source": [
        "# Model Evaluation\n",
        "\n",
        "y_pred_seq = model_sequential.predict(X_test_final_df)\n",
        "y_pred_seq = np.where(y_pred_seq >=0.5, 1, 0)\n",
        "\n",
        "print(classification_report(y_test, y_pred_seq))"
      ],
      "metadata": {
        "id": "nAC8RsVWK-Dj"
      },
      "execution_count": null,
      "outputs": []
    },
    {
      "cell_type": "markdown",
      "source": [
        "### 8.1.2 Functional API"
      ],
      "metadata": {
        "id": "BGd7cDpTPTdv"
      }
    },
    {
      "cell_type": "code",
      "source": [
        "# Create DataFrame\n",
        "\n",
        "history_functional_df = pd.DataFrame(history_functional.history)\n",
        "history_functional_df"
      ],
      "metadata": {
        "id": "fPc766h4PW4F"
      },
      "execution_count": null,
      "outputs": []
    },
    {
      "cell_type": "code",
      "source": [
        "# Plot between accuracy and val_accuracy\n",
        "\n",
        "history_functional_df[['accuracy', 'val_accuracy']].plot()"
      ],
      "metadata": {
        "id": "xN-UUSIxPpeo"
      },
      "execution_count": null,
      "outputs": []
    },
    {
      "cell_type": "code",
      "source": [
        "# Plot between loss and val_loss\n",
        "\n",
        "history_functional_df[['loss', 'val_loss']].plot()"
      ],
      "metadata": {
        "id": "iyIRD2D2P-Mi"
      },
      "execution_count": null,
      "outputs": []
    },
    {
      "cell_type": "code",
      "source": [
        "# Model Evaluation Functional API\n",
        "y_pred_func = model_functional.predict(X_test_final_df)\n",
        "y_pred_func = np.where(y_pred_func >=0.5, 1, 0)\n",
        "print(classification_report(y_test, y_pred_func))"
      ],
      "metadata": {
        "id": "OPCDyl1mMJpz"
      },
      "execution_count": null,
      "outputs": []
    },
    {
      "cell_type": "markdown",
      "source": [
        "## 8.2 Model Improvement"
      ],
      "metadata": {
        "id": "HMpGs6BtSo8d"
      }
    },
    {
      "cell_type": "markdown",
      "source": [
        "### 8.2.1 Sequential API"
      ],
      "metadata": {
        "id": "384xYbv1SxLj"
      }
    },
    {
      "cell_type": "code",
      "source": [
        "# Model Improvement Sequential API\n",
        "\n",
        "model_sequential2 = tf.keras.models.Sequential()\n",
        "model_sequential2.add(tf.keras.layers.Dense(32, activation='relu', input_shape=(X_train_final_df.shape[1],),kernel_initializer='HeNormal',kernel_regularizer='l2'))\n",
        "model_sequential2.add(tf.keras.layers.Dense(18, activation='relu'))\n",
        "model_sequential2.add(tf.keras.layers.Dropout(0.2))\n",
        "model_sequential2.add(tf.keras.layers.Dense(1, activation='sigmoid'))\n"
      ],
      "metadata": {
        "id": "Zo0w9IpkTBw3"
      },
      "execution_count": null,
      "outputs": []
    },
    {
      "cell_type": "code",
      "source": [
        "# Model Compile\n",
        "model_sequential2.compile(loss='binary_crossentropy', optimizer='adamax', metrics=[tf.keras.metrics.BinaryAccuracy(threshold=.6)])"
      ],
      "metadata": {
        "id": "oZ3EVtOLkRox"
      },
      "execution_count": null,
      "outputs": []
    },
    {
      "cell_type": "code",
      "source": [
        "# Training for Sequential API\n",
        "\n",
        "%time\n",
        "history_sequential2 = model_sequential2.fit(train_pipe, batch_size= 15, epochs=100, validation_data=val_pipe)"
      ],
      "metadata": {
        "id": "CwZ_CuaVkST4"
      },
      "execution_count": null,
      "outputs": []
    },
    {
      "cell_type": "code",
      "source": [
        "model_sequential2.summary()"
      ],
      "metadata": {
        "id": "dJxtis1xWRW3"
      },
      "execution_count": null,
      "outputs": []
    },
    {
      "cell_type": "code",
      "source": [
        "# Create DataFrame\n",
        "\n",
        "history_sequential_df2 = pd.DataFrame(history_sequential2.history)\n",
        "history_sequential_df2"
      ],
      "metadata": {
        "id": "upwEdjKwWt4S"
      },
      "execution_count": null,
      "outputs": []
    },
    {
      "cell_type": "code",
      "source": [
        "# Plot between accuracy and val_accuracy\n",
        "\n",
        "history_sequential_df2[['binary_accuracy', 'val_binary_accuracy']].plot()"
      ],
      "metadata": {
        "id": "Wl0BXukrW6ZY"
      },
      "execution_count": null,
      "outputs": []
    },
    {
      "cell_type": "code",
      "source": [
        "# Plot between loss and val_loss\n",
        "\n",
        "history_sequential_df2[['loss', 'val_loss']].plot()"
      ],
      "metadata": {
        "id": "VE2baqp5W8Mv"
      },
      "execution_count": null,
      "outputs": []
    },
    {
      "cell_type": "markdown",
      "source": [
        "### 8.2.2 Model Improvement Functional API"
      ],
      "metadata": {
        "id": "1GELLCn0ZNTp"
      }
    },
    {
      "cell_type": "code",
      "source": [
        "# Model Improvement Functional API\n",
        "\n",
        "input_data = Input(shape=(X_train_final_df.shape[1],))\n",
        "hidden_1 = Dense(32, activation='relu')(input_data)\n",
        "hidden_2 = Dense(18, activation='relu')(hidden_1)\n",
        "\n",
        "concat_data = concatenate([input_data, hidden_2])\n",
        "output_data = Dense(1, activation='sigmoid')(concat_data)\n",
        "\n",
        "model_functional2 = Model(inputs=input_data, outputs=output_data)\n",
        "\n",
        "# Compile Functional API\n",
        "\n",
        "model_functional2.compile(loss='binary_crossentropy', optimizer='Adamax', metrics=[tf.keras.metrics.BinaryAccuracy(threshold=.7)])"
      ],
      "metadata": {
        "id": "Ap3O7suOZX5_"
      },
      "execution_count": null,
      "outputs": []
    },
    {
      "cell_type": "code",
      "source": [
        "# Training for Functional API\n",
        "\n",
        "%%time\n",
        "history_functional2 = model_functional2.fit(train_pipe, epochs=100, validation_data=val_pipe)"
      ],
      "metadata": {
        "id": "pSsKsdqNbL5o"
      },
      "execution_count": null,
      "outputs": []
    },
    {
      "cell_type": "code",
      "source": [
        "# Create DataFrame\n",
        "\n",
        "history_functional_df2 = pd.DataFrame(history_functional2.history)\n",
        "history_functional_df2"
      ],
      "metadata": {
        "id": "DcbLn7oBbu_D"
      },
      "execution_count": null,
      "outputs": []
    },
    {
      "cell_type": "code",
      "source": [
        "# Plot between accuracy and val_accuracy\n",
        "\n",
        "history_functional_df2[['binary_accuracy', 'val_binary_accuracy']].plot()"
      ],
      "metadata": {
        "id": "NX27L5Zlb09S"
      },
      "execution_count": null,
      "outputs": []
    },
    {
      "cell_type": "code",
      "source": [
        "# Plot between loss and val_loss\n",
        "\n",
        "history_functional_df2[['loss', 'val_loss']].plot()"
      ],
      "metadata": {
        "id": "5eSG0I9cb8ah"
      },
      "execution_count": null,
      "outputs": []
    },
    {
      "cell_type": "code",
      "source": [
        "# Model Improvement Sequential API\n",
        "\n",
        "y_pred_seq2 = model_sequential2.predict(X_test_final_df)\n",
        "y_pred_seq2 = np.where(y_pred_seq2 >=0.5, 1, 0)\n",
        "\n",
        "# Model Improvement Functional API\n",
        "y_pred_func2 = model_functional2.predict(X_test_final_df)\n",
        "y_pred_func2 = np.where(y_pred_func2 >=0.5, 1, 0)\n",
        "\n",
        "print('---------------------Sequential API------------------')\n",
        "print(classification_report(y_test, y_pred_seq2))\n",
        "print('---------------------Functional API------------------')\n",
        "print(classification_report(y_test, y_pred_func2))"
      ],
      "metadata": {
        "id": "Bi3f38eKcGZX"
      },
      "execution_count": null,
      "outputs": []
    },
    {
      "cell_type": "markdown",
      "source": [
        "## 8.2 Model Analysis"
      ],
      "metadata": {
        "id": "bgKnrWfEl3t1"
      }
    },
    {
      "cell_type": "markdown",
      "source": [
        "- Model Sequential dan funcional API memiliki accurasy sama yaitu 77%\n",
        "- Recall and F1 score jelek hanya 44 dan 51 hal ini diakibatkan data **imbalance**\n",
        "- untuk mengatasi data imbalance salah satunya adalah pengaturan threshold. tidak melakukan under sampling karena data yang dimiliki sedikit sehingga akan banyak data yang hilang. tidak melakukan upper sampling karena memiliki kemungkinan terjadinya bias\n",
        "- untuk improvment menambahkan thresdhold, otimizer `Adamax`, kernel `dropout 0.3`, dihasilkan accuracy meningkat 1% menjadi 78% drngan nilai recaal dan f1 score meningkat.\n",
        "- Best model adalah sequential setelah improvement"
      ],
      "metadata": {
        "id": "5OxlEqDfmFUs"
      }
    },
    {
      "cell_type": "markdown",
      "metadata": {
        "id": "3URNVoFy90uN"
      },
      "source": [
        "# 9 - Model Saving"
      ]
    },
    {
      "cell_type": "code",
      "source": [
        "# save \n",
        "with open('model_scaler.pkl', 'wb') as file_1:\n",
        "  joblib.dump(scaler, file_1)\n",
        "\n",
        "with open('model_encoder.pkl', 'wb') as file_2:\n",
        "  joblib.dump(encoder, file_2)\n",
        "\n",
        "with open('num_columns.txt', 'w') as file_3:\n",
        "  json.dump(num_columns, file_3)\n",
        "\n",
        "with open('cat_columns.txt', 'w') as file_4:\n",
        "  json.dump(cat_columns, file_4)\n",
        "\n",
        "# Freeze Model\n",
        "model_sequential2.trainable = False\n",
        "\n",
        "# Save ANN Model\n",
        "model_sequential2.save('WA_Fn-UseC_-Telco-Customer-Churn.h5')\n",
        "  "
      ],
      "metadata": {
        "id": "UuLKbxIugDP7"
      },
      "execution_count": null,
      "outputs": []
    },
    {
      "cell_type": "markdown",
      "metadata": {
        "id": "ShmQXl2_90uO"
      },
      "source": [
        "# 10 - Model Inference"
      ]
    },
    {
      "cell_type": "code",
      "source": [
        "# Load The Models\n",
        "\n",
        "with open('model_scaler.pkl', 'rb') as file_1:\n",
        "  model_scaler = joblib.load(file_1)\n",
        "\n",
        "with open('model_encoder.pkl', 'rb') as file_2:\n",
        "  model_encoder = joblib.load(file_2)\n",
        "\n",
        "with open('num_columns.txt', 'r') as file_3:\n",
        "  num_columns = json.load(file_3)\n",
        "\n",
        "with open('cat_columns.txt', 'r') as file_4:\n",
        "  cat_columns = json.load(file_4)\n",
        "\n",
        "model_ann = load_model('WA_Fn-UseC_-Telco-Customer-Churn.h5')"
      ],
      "metadata": {
        "id": "ysekOhUgWFFh"
      },
      "execution_count": null,
      "outputs": []
    },
    {
      "cell_type": "code",
      "source": [
        "# Get Data Inference\n",
        "data_inf"
      ],
      "metadata": {
        "id": "G0vojZtnXKUo"
      },
      "execution_count": null,
      "outputs": []
    },
    {
      "cell_type": "code",
      "source": [
        "# Get numerical and categorical data inference\n",
        "data_inf_num = data_inf[num_columns]\n",
        "data_inf_cat = data_inf[cat_columns]"
      ],
      "metadata": {
        "id": "0TWPB4EIXaQj"
      },
      "execution_count": null,
      "outputs": []
    },
    {
      "cell_type": "code",
      "source": [
        "# scaling and encoding data inference\n",
        "data_inf_num_scaled = model_scaler.transform(data_inf_num)\n",
        "data_inf_cat_encoded = model_encoder.transform(data_inf_cat)\n",
        "\n",
        "# concate data inference\n",
        "data_inf_final = np.concatenate([data_inf_num_scaled, data_inf_cat_encoded], axis=1)\n",
        "\n",
        "# convert to DataFrame\n",
        "data_inf_final_df = pd.DataFrame(data_inf_final, columns=[num_columns+cat_columns])"
      ],
      "metadata": {
        "id": "yOjIPMHeXj9x"
      },
      "execution_count": null,
      "outputs": []
    },
    {
      "cell_type": "code",
      "source": [
        "# Feature selection data inference\n",
        "data_inf_final_df2 = data_inf_final_df[['Contract', 'OnlineSecurity', 'TechSupport', 'OnlineBackup','tenure','DeviceProtection', 'SeniorCitizen']]"
      ],
      "metadata": {
        "id": "vVoTpvZzYAhl"
      },
      "execution_count": null,
      "outputs": []
    },
    {
      "cell_type": "code",
      "source": [
        "# Predict using Neural Network\n",
        "\n",
        "y_pred_inf = model_ann.predict(data_inf_final_df2)\n",
        "y_pred_inf = np.where(y_pred_inf >= 0.5, 'Yes', 'No')"
      ],
      "metadata": {
        "id": "EqJ7H6ohYUmO"
      },
      "execution_count": null,
      "outputs": []
    },
    {
      "cell_type": "code",
      "source": [
        "y_pred_inf_df = pd.DataFrame(y_pred_inf, columns=['Prediction'])\n",
        "y_pred_inf_df"
      ],
      "metadata": {
        "id": "ctnyu5R2YkYy"
      },
      "execution_count": null,
      "outputs": []
    },
    {
      "cell_type": "code",
      "source": [
        "# Concate between Inference-Set and Prediction\n",
        "\n",
        "pd.concat([data_inf, y_pred_inf_df], axis=1)"
      ],
      "metadata": {
        "id": "iEeY-AYZYvq_"
      },
      "execution_count": null,
      "outputs": []
    },
    {
      "cell_type": "markdown",
      "metadata": {
        "id": "8Db7LE1o90uO"
      },
      "source": [
        "# 11 - Pengambilan Kesimpulan"
      ]
    },
    {
      "cell_type": "markdown",
      "source": [
        "# Overall Analysis"
      ],
      "metadata": {
        "id": "RUMCFMteZkHk"
      }
    },
    {
      "cell_type": "markdown",
      "source": [
        "**Based on EDA** :\n",
        "\n",
        "- Dataset yang digunakan adalah data yang diperoleh dari `kaggle` dengan nama `Telco Customer Churn` yang terdiri dari 21 kolom dengan 7043 data atau baris.\n",
        "\n",
        "- Dataset ini merupakan data binary classifikasi untuk menentukan apakah konsumen akan mengalami churn atau tidak churn dengan interpresentasi class 0 (NOT Churn) dan class 1 (Churn).\n",
        "\n",
        "- Data ini **imbalance** karena persentase `No` yaitu 73,5% berbeda jauh dengan `Yes` yaitu 26,5%.\n",
        "\n",
        "- Pada data ini lebih banyak konsumen yang berusia dibawah 65 tahun. \n",
        "\n",
        "- Konsumen terlama yaitu tenure 72 bulan / 6 tahun sedangkan konsumen terbanyak adalah konsumen dengan tenure 1 bulan, hal dapat diatasi dengan promo paket 3 bulan / 6 bulan / 12 bulan.\n",
        "\n",
        "- Konsumen yang menggunakan internet service banyak yang mengalami churn hal bisa terjadi karena semakin banyak iklan produk serupa yang lebih menarik diinternet, sehingga harus ditingkat iklan diinternet.\n",
        "\n",
        "**Based on Model** :\n",
        "\n",
        "- Model yang digunakan adalah Sequential API dan Functional API, dari kedua model tersebut Best modelnya adalah sequential API setelah dilakukan improvement\n",
        "\n",
        "**Improvement** : Karena keterbatasan waktu saya melakukan trail dan eror pada epoch 100 dan 200 dan pada epoch 200 hasilnya jelek grafik loss dan val loss tidak beraturan/ tidak konsisten. sehingga bisa mencoba untuk trail eror lebih dalam atau menggunakan earli stopping"
      ],
      "metadata": {
        "id": "hgnXc3nvaLur"
      }
    },
    {
      "cell_type": "markdown",
      "metadata": {
        "id": "3iH_j1NT90uO"
      },
      "source": [
        "### Referensi\n",
        "- https://community.ibm.com/community/user/businessanalytics/blogs/steven-macko/2019/07/11/telco-customer-churn-1113"
      ]
    }
  ],
  "metadata": {
    "kernelspec": {
      "display_name": "Python 3.10.7 64-bit",
      "language": "python",
      "name": "python3"
    },
    "language_info": {
      "codemirror_mode": {
        "name": "ipython",
        "version": 3
      },
      "file_extension": ".py",
      "mimetype": "text/x-python",
      "name": "python",
      "nbconvert_exporter": "python",
      "pygments_lexer": "ipython3",
      "version": "3.10.7"
    },
    "orig_nbformat": 4,
    "vscode": {
      "interpreter": {
        "hash": "5591f2605832b160740231f2510d2dbb1d1e15936a10686c27038ab251cb1772"
      }
    },
    "colab": {
      "private_outputs": true,
      "provenance": []
    },
    "accelerator": "GPU",
    "gpuClass": "standard"
  },
  "nbformat": 4,
  "nbformat_minor": 0
}